{
  "nbformat": 4,
  "nbformat_minor": 0,
  "metadata": {
    "colab": {
      "name": "ECCE635_Deep_learning_lab2.ipynb",
      "provenance": [],
      "collapsed_sections": []
    },
    "kernelspec": {
      "name": "python3",
      "display_name": "Python 3"
    },
    "language_info": {
      "name": "python"
    }
  },
  "cells": [
    {
      "cell_type": "code",
      "execution_count": null,
      "metadata": {
        "id": "wWBEsg0WV-I6"
      },
      "outputs": [],
      "source": [
        "import matplotlib.pyplot as plt\n",
        "import numpy as np"
      ]
    },
    {
      "cell_type": "code",
      "source": [
        "from keras.datasets import imdb\n",
        "(train_data, train_labels),(test_data, test_labels)=imdb.load_data(num_words=10000)"
      ],
      "metadata": {
        "id": "06jYw-6uWEQU",
        "colab": {
          "base_uri": "https://localhost:8080/"
        },
        "outputId": "aa104990-2cbe-4a72-9c27-67c394fafadb"
      },
      "execution_count": null,
      "outputs": [
        {
          "output_type": "stream",
          "name": "stdout",
          "text": [
            "Downloading data from https://storage.googleapis.com/tensorflow/tf-keras-datasets/imdb.npz\n",
            "17465344/17464789 [==============================] - 0s 0us/step\n",
            "17473536/17464789 [==============================] - 0s 0us/step\n"
          ]
        }
      ]
    },
    {
      "cell_type": "code",
      "source": [
        "def vectorize_sequences(sequences,dimension=10000):\n",
        " results=np.zeros((len(sequences),dimension))\n",
        " for i, sequence in enumerate(sequences):\n",
        "   results[i,sequence]=1\n",
        " return results\n",
        "#turn all samples into tensors"
      ],
      "metadata": {
        "id": "ofMXs5BaXNmJ"
      },
      "execution_count": null,
      "outputs": []
    },
    {
      "cell_type": "code",
      "source": [
        "\n",
        "x_train = vectorize_sequences(train_data)\n",
        "x_test = vectorize_sequences(test_data)\n",
        "y_train = np.asarray(train_labels).astype('float32')\n",
        "y_test = np.asarray(test_labels).astype('float32')"
      ],
      "metadata": {
        "id": "PQx5ytZ9YXQf"
      },
      "execution_count": null,
      "outputs": []
    },
    {
      "cell_type": "code",
      "source": [
        "x_train[1]"
      ],
      "metadata": {
        "colab": {
          "base_uri": "https://localhost:8080/"
        },
        "id": "3NH9FjnvZPoB",
        "outputId": "cae8444c-4ae7-49f2-aca6-ae6744510eb1"
      },
      "execution_count": null,
      "outputs": [
        {
          "output_type": "execute_result",
          "data": {
            "text/plain": [
              "array([0., 1., 1., ..., 0., 0., 0.])"
            ]
          },
          "metadata": {},
          "execution_count": 9
        }
      ]
    },
    {
      "cell_type": "code",
      "source": [
        "y_test[2500]"
      ],
      "metadata": {
        "colab": {
          "base_uri": "https://localhost:8080/"
        },
        "id": "dgeOIdOEQh07",
        "outputId": "39ce99e4-cc51-424c-f6e1-7ce287405aa3"
      },
      "execution_count": null,
      "outputs": [
        {
          "output_type": "execute_result",
          "data": {
            "text/plain": [
              "0.0"
            ]
          },
          "metadata": {},
          "execution_count": 10
        }
      ]
    },
    {
      "cell_type": "code",
      "source": [
        "#build the network\n",
        "from keras import models\n",
        "from keras import layers\n",
        "model = models.Sequential()\n",
        "model.add(layers.Dense(17,activation='relu',input_shape=(10000,)))\n",
        "model.add(layers.Dense(17,activation='relu'))\n",
        "model.add(layers.Dense(17,activation='relu'))\n",
        "model.add(layers.Dense(1,activation='sigmoid'))"
      ],
      "metadata": {
        "id": "z8zTtrljZYBG"
      },
      "execution_count": null,
      "outputs": []
    },
    {
      "cell_type": "code",
      "source": [
        "model.compile(optimizer='rmsprop',loss='binary_crossentropy',metrics='accuracy')"
      ],
      "metadata": {
        "id": "xQAErPWIauTg"
      },
      "execution_count": null,
      "outputs": []
    },
    {
      "cell_type": "code",
      "source": [
        "#split the train data into training andvalidation sets\n",
        "x_val=x_train[:10000]\n",
        "partial_x_train=x_train[10000:]\n",
        "y_val=y_train[:10000]\n",
        "partial_y_train=y_train[10000:]"
      ],
      "metadata": {
        "id": "h2EqeulnbCc8"
      },
      "execution_count": null,
      "outputs": []
    },
    {
      "cell_type": "code",
      "source": [
        "history=model.fit(partial_x_train,partial_y_train,epochs=15,batch_size=512,validation_data=(x_val,y_val))"
      ],
      "metadata": {
        "colab": {
          "base_uri": "https://localhost:8080/"
        },
        "id": "VonhjLU8hwGk",
        "outputId": "c50b7265-7c95-47b3-c501-31b59e26cb9a"
      },
      "execution_count": null,
      "outputs": [
        {
          "output_type": "stream",
          "name": "stdout",
          "text": [
            "Epoch 1/15\n",
            "30/30 [==============================] - 3s 55ms/step - loss: 0.5169 - accuracy: 0.7675 - val_loss: 0.3669 - val_accuracy: 0.8764\n",
            "Epoch 2/15\n",
            "30/30 [==============================] - 1s 39ms/step - loss: 0.2854 - accuracy: 0.9039 - val_loss: 0.3283 - val_accuracy: 0.8636\n",
            "Epoch 3/15\n",
            "30/30 [==============================] - 1s 41ms/step - loss: 0.2060 - accuracy: 0.9324 - val_loss: 0.2761 - val_accuracy: 0.8898\n",
            "Epoch 4/15\n",
            "30/30 [==============================] - 1s 40ms/step - loss: 0.1598 - accuracy: 0.9481 - val_loss: 0.3243 - val_accuracy: 0.8743\n",
            "Epoch 5/15\n",
            "30/30 [==============================] - 1s 40ms/step - loss: 0.1282 - accuracy: 0.9590 - val_loss: 0.4392 - val_accuracy: 0.8380\n",
            "Epoch 6/15\n",
            "30/30 [==============================] - 1s 48ms/step - loss: 0.1083 - accuracy: 0.9658 - val_loss: 0.3145 - val_accuracy: 0.8812\n",
            "Epoch 7/15\n",
            "30/30 [==============================] - 1s 43ms/step - loss: 0.0827 - accuracy: 0.9747 - val_loss: 0.4213 - val_accuracy: 0.8646\n",
            "Epoch 8/15\n",
            "30/30 [==============================] - 1s 41ms/step - loss: 0.0709 - accuracy: 0.9792 - val_loss: 0.4556 - val_accuracy: 0.8632\n",
            "Epoch 9/15\n",
            "30/30 [==============================] - 1s 40ms/step - loss: 0.0594 - accuracy: 0.9815 - val_loss: 0.3893 - val_accuracy: 0.8782\n",
            "Epoch 10/15\n",
            "30/30 [==============================] - 1s 40ms/step - loss: 0.0478 - accuracy: 0.9873 - val_loss: 0.4176 - val_accuracy: 0.8752\n",
            "Epoch 11/15\n",
            "30/30 [==============================] - 1s 40ms/step - loss: 0.0360 - accuracy: 0.9902 - val_loss: 0.4493 - val_accuracy: 0.8728\n",
            "Epoch 12/15\n",
            "30/30 [==============================] - 1s 44ms/step - loss: 0.0309 - accuracy: 0.9921 - val_loss: 0.4798 - val_accuracy: 0.8713\n",
            "Epoch 13/15\n",
            "30/30 [==============================] - 1s 44ms/step - loss: 0.0150 - accuracy: 0.9987 - val_loss: 0.5829 - val_accuracy: 0.8560\n",
            "Epoch 14/15\n",
            "30/30 [==============================] - 1s 41ms/step - loss: 0.0244 - accuracy: 0.9931 - val_loss: 0.5555 - val_accuracy: 0.8700\n",
            "Epoch 15/15\n",
            "30/30 [==============================] - 1s 39ms/step - loss: 0.0068 - accuracy: 0.9997 - val_loss: 0.5862 - val_accuracy: 0.8672\n"
          ]
        }
      ]
    },
    {
      "cell_type": "code",
      "source": [
        "results = model.evaluate(x_test,y_test)"
      ],
      "metadata": {
        "colab": {
          "base_uri": "https://localhost:8080/"
        },
        "id": "pdTLOhiCDqQw",
        "outputId": "17aeb3ae-86ab-4bc9-8afa-50a249cb407d"
      },
      "execution_count": null,
      "outputs": [
        {
          "output_type": "stream",
          "name": "stdout",
          "text": [
            "782/782 [==============================] - 2s 3ms/step - loss: 0.6409 - accuracy: 0.8554\n"
          ]
        }
      ]
    },
    {
      "cell_type": "code",
      "source": [
        "from keras import regularizers\n",
        "\n",
        "model2=models.Sequential()\n",
        "model2.compile(optimizer='rmsprop',loss='binary_crossentropy',metrics='accuracy')\n",
        "model2.add(layers.Dense(17,activation='relu',input_shape=(10000,)))\n",
        "model2.add(layers.Dropout(0.5))\n",
        "model2.add(layers.Dense(17,activation='relu'))\n",
        "model2.add(layers.Dropout(0.5))\n",
        "model2.add(layers.Dense(1,activation='sigmoid'))\n",
        "\n",
        "#split the train data into training and validation sets\n",
        "x_val=x_train[:10000]\n",
        "partial_x_train=x_train[10000:]\n",
        "y_val=y_train[:10000]\n",
        "partial_y_train=y_train[10000:]\n",
        "history=model2.fit(partial_x_train,partial_y_train,epochs=15,batch_size=512,validation_data=(x_val,y_val))"
      ],
      "metadata": {
        "colab": {
          "base_uri": "https://localhost:8080/"
        },
        "id": "vhm_QC0PEAJ6",
        "outputId": "835141fd-9263-4a35-d325-fd7678f02ca0"
      },
      "execution_count": null,
      "outputs": [
        {
          "output_type": "stream",
          "name": "stdout",
          "text": [
            "Epoch 1/15\n",
            "30/30 [==============================] - 2s 48ms/step - loss: 0.6243 - accuracy: 0.6403 - val_loss: 0.5111 - val_accuracy: 0.8291\n",
            "Epoch 2/15\n",
            "30/30 [==============================] - 1s 38ms/step - loss: 0.4950 - accuracy: 0.7801 - val_loss: 0.3936 - val_accuracy: 0.8715\n",
            "Epoch 3/15\n",
            "30/30 [==============================] - 1s 38ms/step - loss: 0.4084 - accuracy: 0.8389 - val_loss: 0.3269 - val_accuracy: 0.8830\n",
            "Epoch 4/15\n",
            "30/30 [==============================] - 1s 38ms/step - loss: 0.3457 - accuracy: 0.8757 - val_loss: 0.2967 - val_accuracy: 0.8879\n",
            "Epoch 5/15\n",
            "30/30 [==============================] - 1s 38ms/step - loss: 0.2902 - accuracy: 0.8982 - val_loss: 0.2829 - val_accuracy: 0.8858\n",
            "Epoch 6/15\n",
            "30/30 [==============================] - 1s 39ms/step - loss: 0.2509 - accuracy: 0.9179 - val_loss: 0.2740 - val_accuracy: 0.8911\n",
            "Epoch 7/15\n",
            "30/30 [==============================] - 1s 40ms/step - loss: 0.2186 - accuracy: 0.9269 - val_loss: 0.3158 - val_accuracy: 0.8797\n",
            "Epoch 8/15\n",
            "30/30 [==============================] - 1s 39ms/step - loss: 0.1970 - accuracy: 0.9366 - val_loss: 0.2873 - val_accuracy: 0.8880\n",
            "Epoch 9/15\n",
            "30/30 [==============================] - 1s 38ms/step - loss: 0.1684 - accuracy: 0.9464 - val_loss: 0.3445 - val_accuracy: 0.8782\n",
            "Epoch 10/15\n",
            "30/30 [==============================] - 1s 38ms/step - loss: 0.1509 - accuracy: 0.9512 - val_loss: 0.3283 - val_accuracy: 0.8888\n",
            "Epoch 11/15\n",
            "30/30 [==============================] - 2s 54ms/step - loss: 0.1345 - accuracy: 0.9556 - val_loss: 0.3562 - val_accuracy: 0.8862\n",
            "Epoch 12/15\n",
            "30/30 [==============================] - 2s 53ms/step - loss: 0.1247 - accuracy: 0.9606 - val_loss: 0.3668 - val_accuracy: 0.8863\n",
            "Epoch 13/15\n",
            "30/30 [==============================] - 1s 38ms/step - loss: 0.1154 - accuracy: 0.9639 - val_loss: 0.3900 - val_accuracy: 0.8858\n",
            "Epoch 14/15\n",
            "30/30 [==============================] - 1s 38ms/step - loss: 0.1041 - accuracy: 0.9665 - val_loss: 0.4152 - val_accuracy: 0.8858\n",
            "Epoch 15/15\n",
            "30/30 [==============================] - 1s 39ms/step - loss: 0.0919 - accuracy: 0.9700 - val_loss: 0.4581 - val_accuracy: 0.8852\n"
          ]
        }
      ]
    },
    {
      "cell_type": "code",
      "source": [
        "\n",
        "results = model2.evaluate(x_test,y_test)"
      ],
      "metadata": {
        "colab": {
          "base_uri": "https://localhost:8080/"
        },
        "id": "pEcacZ2FPwtS",
        "outputId": "ba3b7083-be2e-445d-9b3e-a720d0057a09"
      },
      "execution_count": null,
      "outputs": [
        {
          "output_type": "stream",
          "name": "stdout",
          "text": [
            "782/782 [==============================] - 2s 3ms/step - loss: 0.4843 - accuracy: 0.8736\n"
          ]
        }
      ]
    },
    {
      "cell_type": "code",
      "source": [
        "results2 = model2.predict(x_test)\n",
        "print(results2)\n",
        "from sklearn import metrics\n",
        "accuracy = metrics.accuracy_score(y_test, results2.round())\n",
        "print(accuracy)\n",
        "recall = metrics.recall_score(y_test, results2.round())\n",
        "print(recall)\n",
        "precision = metrics.precision_score(y_test, results2.round())\n",
        "print(precision)\n",
        "F1 = metrics.f1_score(y_test, results2.round())\n",
        "print(F1)"
      ],
      "metadata": {
        "colab": {
          "base_uri": "https://localhost:8080/"
        },
        "id": "_ZG7JkXSRJWW",
        "outputId": "1e154703-4f1f-4f4b-bac6-5a48068e7537"
      },
      "execution_count": null,
      "outputs": [
        {
          "output_type": "stream",
          "name": "stdout",
          "text": [
            "[[0.06239581]\n",
            " [1.        ]\n",
            " [0.99999905]\n",
            " ...\n",
            " [0.00688404]\n",
            " [0.0151934 ]\n",
            " [0.8213564 ]]\n",
            "0.8736\n",
            "0.89576\n",
            "0.8577447525662633\n",
            "0.8763402989747202\n"
          ]
        }
      ]
    },
    {
      "cell_type": "code",
      "source": [
        "history_dict=history.history\n",
        "history_dict.keys()"
      ],
      "metadata": {
        "colab": {
          "base_uri": "https://localhost:8080/"
        },
        "id": "M3uwJi_miPvw",
        "outputId": "1f052552-4335-424c-db9b-13f686ef258a"
      },
      "execution_count": null,
      "outputs": [
        {
          "output_type": "execute_result",
          "data": {
            "text/plain": [
              "dict_keys(['loss', 'accuracy', 'val_loss', 'val_accuracy'])"
            ]
          },
          "metadata": {},
          "execution_count": 19
        }
      ]
    },
    {
      "cell_type": "code",
      "source": [
        "loss_values=history_dict['loss']\n",
        "val_loss_values=history_dict['val_loss']\n",
        "acc=history_dict['accuracy']\n",
        "epochs=range(1,len(acc)+1)\n",
        "plt.plot(epochs,loss_values,'bo',label='Training loss')\n",
        "plt.plot(epochs,val_loss_values,'b',label='Validation loss')\n",
        "plt.title('Training and validation loss')\n",
        "plt.xlabel('Epochs')\n",
        "plt.ylabel('loss')\n",
        "plt.legend()\n",
        "plt.show()"
      ],
      "metadata": {
        "colab": {
          "base_uri": "https://localhost:8080/",
          "height": 295
        },
        "id": "ufvkPzDzidAd",
        "outputId": "bcfe8ead-bfc2-4bf2-8c1f-c9948fa965dc"
      },
      "execution_count": null,
      "outputs": [
        {
          "output_type": "display_data",
          "data": {
            "image/png": "[encoded data removed]",
            "text/plain": [
              "<Figure size 432x288 with 1 Axes>"
            ]
          },
          "metadata": {
            "needs_background": "light"
          }
        }
      ]
    },
    {
      "cell_type": "code",
      "source": [
        "plt.clf()\n",
        "acc_values=history_dict['accuracy']\n",
        "val_acc_values=history_dict['val_accuracy']\n",
        "plt.plot(epochs,acc,'bo',label='Training acc')\n",
        "plt.plot(epochs,val_acc_values,'b',label='Validation acc')\n",
        "plt.title('Traing and validation accuracy')\n",
        "plt.xlabel('Epochs')\n",
        "plt.ylabel('Accuracy')\n",
        "plt.legend()\n",
        "plt.show()"
      ],
      "metadata": {
        "colab": {
          "base_uri": "https://localhost:8080/",
          "height": 295
        },
        "id": "aLARxGsEkD0K",
        "outputId": "830dc818-1da4-44f9-eb8b-e802fe56c15d"
      },
      "execution_count": null,
      "outputs": [
        {
          "output_type": "display_data",
          "data": {
            "image/png": "[encoded data removed]",
            "text/plain": [
              "<Figure size 432x288 with 1 Axes>"
            ]
          },
          "metadata": {
            "needs_background": "light"
          }
        }
      ]
    }
  ]
}