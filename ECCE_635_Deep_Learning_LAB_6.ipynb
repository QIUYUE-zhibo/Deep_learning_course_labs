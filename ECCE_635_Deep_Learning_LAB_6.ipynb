{
  "nbformat": 4,
  "nbformat_minor": 0,
  "metadata": {
    "colab": {
      "name": "ECCE_635_Deep_Learning_LAB_6.ipynb",
      "provenance": [],
      "collapsed_sections": []
    },
    "kernelspec": {
      "name": "python3",
      "display_name": "Python 3"
    },
    "language_info": {
      "name": "python"
    },
    "accelerator": "GPU"
  },
  "cells": [
    {
      "cell_type": "code",
      "execution_count": null,
      "metadata": {
        "colab": {
          "base_uri": "https://localhost:8080/"
        },
        "id": "YApXeyYVh8VS",
        "outputId": "13d0951e-85d4-4730-8896-305cff540cec"
      },
      "outputs": [
        {
          "output_type": "stream",
          "name": "stdout",
          "text": [
            "Requirement already satisfied: tensorflow==2.4.1 in /usr/local/lib/python3.7/dist-packages (2.4.1)\n",
            "Requirement already satisfied: opt-einsum~=3.3.0 in /usr/local/lib/python3.7/dist-packages (from tensorflow==2.4.1) (3.3.0)\n",
            "Requirement already satisfied: protobuf>=3.9.2 in /usr/local/lib/python3.7/dist-packages (from tensorflow==2.4.1) (3.17.3)\n",
            "Requirement already satisfied: absl-py~=0.10 in /usr/local/lib/python3.7/dist-packages (from tensorflow==2.4.1) (0.15.0)\n",
            "Requirement already satisfied: tensorflow-estimator<2.5.0,>=2.4.0 in /usr/local/lib/python3.7/dist-packages (from tensorflow==2.4.1) (2.4.0)\n",
            "Requirement already satisfied: numpy~=1.19.2 in /usr/local/lib/python3.7/dist-packages (from tensorflow==2.4.1) (1.19.5)\n",
            "Requirement already satisfied: keras-preprocessing~=1.1.2 in /usr/local/lib/python3.7/dist-packages (from tensorflow==2.4.1) (1.1.2)\n",
            "Requirement already satisfied: six~=1.15.0 in /usr/local/lib/python3.7/dist-packages (from tensorflow==2.4.1) (1.15.0)\n",
            "Requirement already satisfied: termcolor~=1.1.0 in /usr/local/lib/python3.7/dist-packages (from tensorflow==2.4.1) (1.1.0)\n",
            "Requirement already satisfied: wheel~=0.35 in /usr/local/lib/python3.7/dist-packages (from tensorflow==2.4.1) (0.37.1)\n",
            "Requirement already satisfied: flatbuffers~=1.12.0 in /usr/local/lib/python3.7/dist-packages (from tensorflow==2.4.1) (1.12)\n",
            "Requirement already satisfied: h5py~=2.10.0 in /usr/local/lib/python3.7/dist-packages (from tensorflow==2.4.1) (2.10.0)\n",
            "Requirement already satisfied: grpcio~=1.32.0 in /usr/local/lib/python3.7/dist-packages (from tensorflow==2.4.1) (1.32.0)\n",
            "Requirement already satisfied: wrapt~=1.12.1 in /usr/local/lib/python3.7/dist-packages (from tensorflow==2.4.1) (1.12.1)\n",
            "Requirement already satisfied: gast==0.3.3 in /usr/local/lib/python3.7/dist-packages (from tensorflow==2.4.1) (0.3.3)\n",
            "Requirement already satisfied: astunparse~=1.6.3 in /usr/local/lib/python3.7/dist-packages (from tensorflow==2.4.1) (1.6.3)\n",
            "Requirement already satisfied: typing-extensions~=3.7.4 in /usr/local/lib/python3.7/dist-packages (from tensorflow==2.4.1) (3.7.4.3)\n",
            "Requirement already satisfied: google-pasta~=0.2 in /usr/local/lib/python3.7/dist-packages (from tensorflow==2.4.1) (0.2.0)\n",
            "Requirement already satisfied: tensorboard~=2.4 in /usr/local/lib/python3.7/dist-packages (from tensorflow==2.4.1) (2.8.0)\n",
            "Requirement already satisfied: google-auth-oauthlib<0.5,>=0.4.1 in /usr/local/lib/python3.7/dist-packages (from tensorboard~=2.4->tensorflow==2.4.1) (0.4.6)\n",
            "Requirement already satisfied: google-auth<3,>=1.6.3 in /usr/local/lib/python3.7/dist-packages (from tensorboard~=2.4->tensorflow==2.4.1) (1.35.0)\n",
            "Requirement already satisfied: requests<3,>=2.21.0 in /usr/local/lib/python3.7/dist-packages (from tensorboard~=2.4->tensorflow==2.4.1) (2.23.0)\n",
            "Requirement already satisfied: tensorboard-plugin-wit>=1.6.0 in /usr/local/lib/python3.7/dist-packages (from tensorboard~=2.4->tensorflow==2.4.1) (1.8.1)\n",
            "Requirement already satisfied: markdown>=2.6.8 in /usr/local/lib/python3.7/dist-packages (from tensorboard~=2.4->tensorflow==2.4.1) (3.3.6)\n",
            "Requirement already satisfied: setuptools>=41.0.0 in /usr/local/lib/python3.7/dist-packages (from tensorboard~=2.4->tensorflow==2.4.1) (57.4.0)\n",
            "Requirement already satisfied: werkzeug>=0.11.15 in /usr/local/lib/python3.7/dist-packages (from tensorboard~=2.4->tensorflow==2.4.1) (1.0.1)\n",
            "Requirement already satisfied: tensorboard-data-server<0.7.0,>=0.6.0 in /usr/local/lib/python3.7/dist-packages (from tensorboard~=2.4->tensorflow==2.4.1) (0.6.1)\n",
            "Requirement already satisfied: pyasn1-modules>=0.2.1 in /usr/local/lib/python3.7/dist-packages (from google-auth<3,>=1.6.3->tensorboard~=2.4->tensorflow==2.4.1) (0.2.8)\n",
            "Requirement already satisfied: cachetools<5.0,>=2.0.0 in /usr/local/lib/python3.7/dist-packages (from google-auth<3,>=1.6.3->tensorboard~=2.4->tensorflow==2.4.1) (4.2.4)\n",
            "Requirement already satisfied: rsa<5,>=3.1.4 in /usr/local/lib/python3.7/dist-packages (from google-auth<3,>=1.6.3->tensorboard~=2.4->tensorflow==2.4.1) (4.8)\n",
            "Requirement already satisfied: requests-oauthlib>=0.7.0 in /usr/local/lib/python3.7/dist-packages (from google-auth-oauthlib<0.5,>=0.4.1->tensorboard~=2.4->tensorflow==2.4.1) (1.3.1)\n",
            "Requirement already satisfied: importlib-metadata>=4.4 in /usr/local/lib/python3.7/dist-packages (from markdown>=2.6.8->tensorboard~=2.4->tensorflow==2.4.1) (4.11.3)\n",
            "Requirement already satisfied: zipp>=0.5 in /usr/local/lib/python3.7/dist-packages (from importlib-metadata>=4.4->markdown>=2.6.8->tensorboard~=2.4->tensorflow==2.4.1) (3.8.0)\n",
            "Requirement already satisfied: pyasn1<0.5.0,>=0.4.6 in /usr/local/lib/python3.7/dist-packages (from pyasn1-modules>=0.2.1->google-auth<3,>=1.6.3->tensorboard~=2.4->tensorflow==2.4.1) (0.4.8)\n",
            "Requirement already satisfied: chardet<4,>=3.0.2 in /usr/local/lib/python3.7/dist-packages (from requests<3,>=2.21.0->tensorboard~=2.4->tensorflow==2.4.1) (3.0.4)\n",
            "Requirement already satisfied: urllib3!=1.25.0,!=1.25.1,<1.26,>=1.21.1 in /usr/local/lib/python3.7/dist-packages (from requests<3,>=2.21.0->tensorboard~=2.4->tensorflow==2.4.1) (1.24.3)\n",
            "Requirement already satisfied: idna<3,>=2.5 in /usr/local/lib/python3.7/dist-packages (from requests<3,>=2.21.0->tensorboard~=2.4->tensorflow==2.4.1) (2.10)\n",
            "Requirement already satisfied: certifi>=2017.4.17 in /usr/local/lib/python3.7/dist-packages (from requests<3,>=2.21.0->tensorboard~=2.4->tensorflow==2.4.1) (2021.10.8)\n",
            "Requirement already satisfied: oauthlib>=3.0.0 in /usr/local/lib/python3.7/dist-packages (from requests-oauthlib>=0.7.0->google-auth-oauthlib<0.5,>=0.4.1->tensorboard~=2.4->tensorflow==2.4.1) (3.2.0)\n"
          ]
        }
      ],
      "source": [
        "!pip install tensorflow==2.4.1"
      ]
    },
    {
      "cell_type": "code",
      "source": [
        "from keras.datasets import mnist\n",
        "from keras.layers import Input, Dense\n",
        "from keras.models import Model\n",
        "import numpy as np\n",
        "import pandas as pa\n",
        "import matplotlib.pyplot as plt\n",
        "from keras.models import Sequential"
      ],
      "metadata": {
        "id": "ZxEKQd8Yi6cS"
      },
      "execution_count": null,
      "outputs": []
    },
    {
      "cell_type": "code",
      "source": [
        "(X_train, _), (X_test, _) = mnist.load_data()\n",
        "X_train = X_train.astype('float32')/255\n",
        "X_test = X_test.astype('float32')/255\n",
        "X_train = X_train.reshape(len(X_train), np.prod(X_train.shape[1:]))\n",
        "X_test = X_test.reshape(len(X_test), np.prod(X_test.shape[1:]))\n",
        "print(X_train.shape)\n",
        "print(X_test.shape)"
      ],
      "metadata": {
        "colab": {
          "base_uri": "https://localhost:8080/"
        },
        "id": "9KF14-6PkiI2",
        "outputId": "4bc10961-9c2a-4360-ed4e-bb4c6ed7d421"
      },
      "execution_count": null,
      "outputs": [
        {
          "output_type": "stream",
          "name": "stdout",
          "text": [
            "Downloading data from https://storage.googleapis.com/tensorflow/tf-keras-datasets/mnist.npz\n",
            "11493376/11490434 [==============================] - 0s 0us/step\n",
            "11501568/11490434 [==============================] - 0s 0us/step\n",
            "(60000, 784)\n",
            "(10000, 784)\n"
          ]
        }
      ]
    },
    {
      "cell_type": "code",
      "source": [
        "#Set  1D tensor input  size (784,1)\n",
        "input_img= Input(shape=(784,))\n",
        "# one layer part of the encoder\n",
        "encoded = Dense(units=2, activation='relu')(input_img)\n",
        "# one layer part of the decoder \n",
        "decoded = Dense(units=784, activation='sigmoid')(encoded) \n",
        "# for the output layer we use the sigmoid function \n",
        "autoencoder=Model(input_img, decoded) # autoencoder with input image as #the input and output the final decoder layer"
      ],
      "metadata": {
        "id": "OX4Fm26OlfC2"
      },
      "execution_count": null,
      "outputs": []
    },
    {
      "cell_type": "code",
      "source": [
        "# define the encoder model\n",
        "encoder = Model(input_img, encoded)\n",
        "# define the decoder \n",
        "encoded_input =Input(shape=(2,)) # the input  tensor\n",
        "# last layer of the autoencodee model \n",
        "decoded_layer = autoencoder.layers[-1]\n",
        "# create the decoder model\n",
        "decoder = Model(encoded_input, decoded_layer(encoded_input))\n"
      ],
      "metadata": {
        "id": "66hEZZ9anA4T"
      },
      "execution_count": null,
      "outputs": []
    },
    {
      "cell_type": "code",
      "source": [
        "autoencoder.summary()\n",
        "encoder.summary()\n",
        "#decoder.summary()"
      ],
      "metadata": {
        "colab": {
          "base_uri": "https://localhost:8080/"
        },
        "id": "wgoA5kLpn6Mf",
        "outputId": "9f956cc1-3099-4af7-a9c1-b1d12c987e6b"
      },
      "execution_count": null,
      "outputs": [
        {
          "output_type": "stream",
          "name": "stdout",
          "text": [
            "Model: \"model_16\"\n",
            "_________________________________________________________________\n",
            " Layer (type)                Output Shape              Param #   \n",
            "=================================================================\n",
            " input_13 (InputLayer)       [(None, 784)]             0         \n",
            "                                                                 \n",
            " dense_14 (Dense)            (None, 2)                 1570      \n",
            "                                                                 \n",
            " dense_15 (Dense)            (None, 784)               2352      \n",
            "                                                                 \n",
            "=================================================================\n",
            "Total params: 3,922\n",
            "Trainable params: 3,922\n",
            "Non-trainable params: 0\n",
            "_________________________________________________________________\n",
            "Model: \"model_17\"\n",
            "_________________________________________________________________\n",
            " Layer (type)                Output Shape              Param #   \n",
            "=================================================================\n",
            " input_13 (InputLayer)       [(None, 784)]             0         \n",
            "                                                                 \n",
            " dense_14 (Dense)            (None, 2)                 1570      \n",
            "                                                                 \n",
            "=================================================================\n",
            "Total params: 1,570\n",
            "Trainable params: 1,570\n",
            "Non-trainable params: 0\n",
            "_________________________________________________________________\n"
          ]
        }
      ]
    },
    {
      "cell_type": "code",
      "source": [
        "autoencoder.compile(optimizer='adam', loss='binary_crossentropy',metrics=['accuracy'])"
      ],
      "metadata": {
        "id": "GU0uehcupG0l"
      },
      "execution_count": null,
      "outputs": []
    },
    {
      "cell_type": "code",
      "source": [
        "autoencoder.fit(X_train, X_train, epochs=50, batch_size=256, shuffle=True, validation_data=(X_test, X_test))"
      ],
      "metadata": {
        "colab": {
          "base_uri": "https://localhost:8080/"
        },
        "id": "2yfqHLBfoiq_",
        "outputId": "eb4e6786-b2a1-43ef-ca8d-2e2bd84d5e71"
      },
      "execution_count": null,
      "outputs": [
        {
          "output_type": "stream",
          "name": "stdout",
          "text": [
            "Epoch 1/50\n",
            "235/235 [==============================] - 2s 8ms/step - loss: 0.4208 - accuracy: 0.0099 - val_loss: 0.2816 - val_accuracy: 0.0064\n",
            "Epoch 2/50\n",
            "235/235 [==============================] - 1s 6ms/step - loss: 0.2577 - accuracy: 0.0113 - val_loss: 0.2504 - val_accuracy: 0.0134\n",
            "Epoch 3/50\n",
            "235/235 [==============================] - 1s 6ms/step - loss: 0.2498 - accuracy: 0.0120 - val_loss: 0.2475 - val_accuracy: 0.0130\n",
            "Epoch 4/50\n",
            "235/235 [==============================] - 1s 6ms/step - loss: 0.2475 - accuracy: 0.0114 - val_loss: 0.2457 - val_accuracy: 0.0122\n",
            "Epoch 5/50\n",
            "235/235 [==============================] - 1s 6ms/step - loss: 0.2457 - accuracy: 0.0109 - val_loss: 0.2441 - val_accuracy: 0.0122\n",
            "Epoch 6/50\n",
            "235/235 [==============================] - 1s 6ms/step - loss: 0.2442 - accuracy: 0.0116 - val_loss: 0.2426 - val_accuracy: 0.0120\n",
            "Epoch 7/50\n",
            "235/235 [==============================] - 1s 6ms/step - loss: 0.2429 - accuracy: 0.0115 - val_loss: 0.2413 - val_accuracy: 0.0121\n",
            "Epoch 8/50\n",
            "235/235 [==============================] - 1s 6ms/step - loss: 0.2417 - accuracy: 0.0110 - val_loss: 0.2403 - val_accuracy: 0.0122\n",
            "Epoch 9/50\n",
            "235/235 [==============================] - 1s 6ms/step - loss: 0.2407 - accuracy: 0.0109 - val_loss: 0.2393 - val_accuracy: 0.0145\n",
            "Epoch 10/50\n",
            "235/235 [==============================] - 1s 6ms/step - loss: 0.2397 - accuracy: 0.0115 - val_loss: 0.2385 - val_accuracy: 0.0120\n",
            "Epoch 11/50\n",
            "235/235 [==============================] - 1s 6ms/step - loss: 0.2389 - accuracy: 0.0108 - val_loss: 0.2377 - val_accuracy: 0.0119\n",
            "Epoch 12/50\n",
            "235/235 [==============================] - 1s 6ms/step - loss: 0.2381 - accuracy: 0.0109 - val_loss: 0.2369 - val_accuracy: 0.0115\n",
            "Epoch 13/50\n",
            "235/235 [==============================] - 1s 6ms/step - loss: 0.2374 - accuracy: 0.0114 - val_loss: 0.2363 - val_accuracy: 0.0118\n",
            "Epoch 14/50\n",
            "235/235 [==============================] - 1s 6ms/step - loss: 0.2368 - accuracy: 0.0113 - val_loss: 0.2358 - val_accuracy: 0.0123\n",
            "Epoch 15/50\n",
            "235/235 [==============================] - 1s 6ms/step - loss: 0.2363 - accuracy: 0.0113 - val_loss: 0.2353 - val_accuracy: 0.0124\n",
            "Epoch 16/50\n",
            "235/235 [==============================] - 1s 6ms/step - loss: 0.2358 - accuracy: 0.0109 - val_loss: 0.2349 - val_accuracy: 0.0119\n",
            "Epoch 17/50\n",
            "235/235 [==============================] - 1s 6ms/step - loss: 0.2354 - accuracy: 0.0110 - val_loss: 0.2346 - val_accuracy: 0.0117\n",
            "Epoch 18/50\n",
            "235/235 [==============================] - 1s 6ms/step - loss: 0.2350 - accuracy: 0.0111 - val_loss: 0.2342 - val_accuracy: 0.0143\n",
            "Epoch 19/50\n",
            "235/235 [==============================] - 2s 7ms/step - loss: 0.2347 - accuracy: 0.0103 - val_loss: 0.2339 - val_accuracy: 0.0129\n",
            "Epoch 20/50\n",
            "235/235 [==============================] - 1s 6ms/step - loss: 0.2344 - accuracy: 0.0105 - val_loss: 0.2338 - val_accuracy: 0.0127\n",
            "Epoch 21/50\n",
            "235/235 [==============================] - 2s 7ms/step - loss: 0.2341 - accuracy: 0.0108 - val_loss: 0.2335 - val_accuracy: 0.0123\n",
            "Epoch 22/50\n",
            "235/235 [==============================] - 1s 6ms/step - loss: 0.2339 - accuracy: 0.0108 - val_loss: 0.2333 - val_accuracy: 0.0122\n",
            "Epoch 23/50\n",
            "235/235 [==============================] - 1s 6ms/step - loss: 0.2337 - accuracy: 0.0103 - val_loss: 0.2331 - val_accuracy: 0.0115\n",
            "Epoch 24/50\n",
            "235/235 [==============================] - 1s 6ms/step - loss: 0.2334 - accuracy: 0.0100 - val_loss: 0.2329 - val_accuracy: 0.0109\n",
            "Epoch 25/50\n",
            "235/235 [==============================] - 1s 6ms/step - loss: 0.2332 - accuracy: 0.0103 - val_loss: 0.2327 - val_accuracy: 0.0113\n",
            "Epoch 26/50\n",
            "235/235 [==============================] - 1s 6ms/step - loss: 0.2330 - accuracy: 0.0109 - val_loss: 0.2325 - val_accuracy: 0.0124\n",
            "Epoch 27/50\n",
            "235/235 [==============================] - 1s 6ms/step - loss: 0.2328 - accuracy: 0.0107 - val_loss: 0.2323 - val_accuracy: 0.0120\n",
            "Epoch 28/50\n",
            "235/235 [==============================] - 1s 6ms/step - loss: 0.2325 - accuracy: 0.0107 - val_loss: 0.2321 - val_accuracy: 0.0124\n",
            "Epoch 29/50\n",
            "235/235 [==============================] - 1s 6ms/step - loss: 0.2323 - accuracy: 0.0103 - val_loss: 0.2319 - val_accuracy: 0.0118\n",
            "Epoch 30/50\n",
            "235/235 [==============================] - 1s 6ms/step - loss: 0.2321 - accuracy: 0.0111 - val_loss: 0.2317 - val_accuracy: 0.0111\n",
            "Epoch 31/50\n",
            "235/235 [==============================] - 1s 6ms/step - loss: 0.2319 - accuracy: 0.0110 - val_loss: 0.2316 - val_accuracy: 0.0124\n",
            "Epoch 32/50\n",
            "235/235 [==============================] - 1s 6ms/step - loss: 0.2316 - accuracy: 0.0106 - val_loss: 0.2314 - val_accuracy: 0.0103\n",
            "Epoch 33/50\n",
            "235/235 [==============================] - 1s 6ms/step - loss: 0.2314 - accuracy: 0.0106 - val_loss: 0.2312 - val_accuracy: 0.0117\n",
            "Epoch 34/50\n",
            "235/235 [==============================] - 1s 6ms/step - loss: 0.2312 - accuracy: 0.0111 - val_loss: 0.2310 - val_accuracy: 0.0128\n",
            "Epoch 35/50\n",
            "235/235 [==============================] - 1s 6ms/step - loss: 0.2310 - accuracy: 0.0111 - val_loss: 0.2308 - val_accuracy: 0.0114\n",
            "Epoch 36/50\n",
            "235/235 [==============================] - 2s 7ms/step - loss: 0.2308 - accuracy: 0.0109 - val_loss: 0.2307 - val_accuracy: 0.0116\n",
            "Epoch 37/50\n",
            "235/235 [==============================] - 1s 6ms/step - loss: 0.2306 - accuracy: 0.0109 - val_loss: 0.2304 - val_accuracy: 0.0117\n",
            "Epoch 38/50\n",
            "235/235 [==============================] - 1s 6ms/step - loss: 0.2303 - accuracy: 0.0106 - val_loss: 0.2303 - val_accuracy: 0.0111\n",
            "Epoch 39/50\n",
            "235/235 [==============================] - 1s 6ms/step - loss: 0.2301 - accuracy: 0.0109 - val_loss: 0.2300 - val_accuracy: 0.0120\n",
            "Epoch 40/50\n",
            "235/235 [==============================] - 1s 6ms/step - loss: 0.2299 - accuracy: 0.0101 - val_loss: 0.2299 - val_accuracy: 0.0109\n",
            "Epoch 41/50\n",
            "235/235 [==============================] - 1s 6ms/step - loss: 0.2297 - accuracy: 0.0098 - val_loss: 0.2296 - val_accuracy: 0.0120\n",
            "Epoch 42/50\n",
            "235/235 [==============================] - 1s 6ms/step - loss: 0.2296 - accuracy: 0.0102 - val_loss: 0.2295 - val_accuracy: 0.0100\n",
            "Epoch 43/50\n",
            "235/235 [==============================] - 1s 6ms/step - loss: 0.2294 - accuracy: 0.0094 - val_loss: 0.2293 - val_accuracy: 0.0117\n",
            "Epoch 44/50\n",
            "235/235 [==============================] - 1s 6ms/step - loss: 0.2292 - accuracy: 0.0099 - val_loss: 0.2291 - val_accuracy: 0.0093\n",
            "Epoch 45/50\n",
            "235/235 [==============================] - 1s 6ms/step - loss: 0.2290 - accuracy: 0.0094 - val_loss: 0.2290 - val_accuracy: 0.0110\n",
            "Epoch 46/50\n",
            "235/235 [==============================] - 1s 6ms/step - loss: 0.2288 - accuracy: 0.0092 - val_loss: 0.2288 - val_accuracy: 0.0104\n",
            "Epoch 47/50\n",
            "235/235 [==============================] - 1s 6ms/step - loss: 0.2287 - accuracy: 0.0089 - val_loss: 0.2287 - val_accuracy: 0.0111\n",
            "Epoch 48/50\n",
            "235/235 [==============================] - 1s 6ms/step - loss: 0.2285 - accuracy: 0.0090 - val_loss: 0.2285 - val_accuracy: 0.0109\n",
            "Epoch 49/50\n",
            "235/235 [==============================] - 1s 6ms/step - loss: 0.2283 - accuracy: 0.0093 - val_loss: 0.2284 - val_accuracy: 0.0103\n",
            "Epoch 50/50\n",
            "235/235 [==============================] - 1s 6ms/step - loss: 0.2282 - accuracy: 0.0090 - val_loss: 0.2282 - val_accuracy: 0.0125\n"
          ]
        },
        {
          "output_type": "execute_result",
          "data": {
            "text/plain": [
              "<keras.callbacks.History at 0x7f0c11ee4390>"
            ]
          },
          "metadata": {},
          "execution_count": 56
        }
      ]
    },
    {
      "cell_type": "code",
      "source": [
        "encoded_imgs = encoder.predict(X_test)\n",
        "predicted = autoencoder.predict(X_test)"
      ],
      "metadata": {
        "id": "ER-geNpkpcIZ"
      },
      "execution_count": null,
      "outputs": []
    },
    {
      "cell_type": "code",
      "source": [
        "plt.figure(figsize=(40, 4))\n",
        "for i in range(10):\n",
        "  ax = plt.subplot(3, 20, i+1)\n",
        "  plt.imshow(X_test[i].reshape(28,28))\n",
        "  plt.gray()\n",
        "  ax.get_xaxis().set_visible(False)\n",
        "  ax.get_yaxis().set_visible(False)\n",
        "plt.show()"
      ],
      "metadata": {
        "colab": {
          "base_uri": "https://localhost:8080/",
          "height": 98
        },
        "id": "sJMp_ZDQp6R0",
        "outputId": "69bd1d17-dd37-424f-f50a-41b3e95747d4"
      },
      "execution_count": null,
      "outputs": [
        {
          "output_type": "display_data",
          "data": {
            "text/plain": [
              "<Figure size 2880x288 with 10 Axes>"
            ],
            "image/png": "[encoded data removed]"
          },
          "metadata": {
            "needs_background": "light"
          }
        }
      ]
    },
    {
      "cell_type": "code",
      "source": [
        "for i in range(10):\n",
        "  \n",
        "    # display encoded images\n",
        "    ax = plt.subplot(3, 20, i + 1 + 20)\n",
        "    plt.imshow(encoded_imgs[i].reshape(2,1))\n",
        "    plt.gray()\n",
        "    ax.get_xaxis().set_visible(False)\n",
        "    ax.get_yaxis().set_visible(False)\n",
        "\n",
        "plt.show()"
      ],
      "metadata": {
        "colab": {
          "base_uri": "https://localhost:8080/",
          "height": 63
        },
        "id": "TdnRMbP1qn3F",
        "outputId": "50517ec9-b12e-4a00-a5fb-38d0132de917"
      },
      "execution_count": null,
      "outputs": [
        {
          "output_type": "display_data",
          "data": {
            "text/plain": [
              "<Figure size 432x288 with 10 Axes>"
            ],
            "image/png": "[encoded data removed]"
          },
          "metadata": {
            "needs_background": "light"
          }
        }
      ]
    },
    {
      "cell_type": "code",
      "source": [
        "plt.figure(figsize=(40,4))\n",
        "for i in range(10):\n",
        "\n",
        "  ax=plt.subplot(3,20,2*20+i+1)\n",
        "  plt.imshow(predicted[i].reshape(28,28))\n",
        "  plt.gray()\n",
        "  ax.get_xaxis().set_visible(False)\n",
        "  ax.get_yaxis().set_visible(False)\n",
        "plt.show()"
      ],
      "metadata": {
        "colab": {
          "base_uri": "https://localhost:8080/",
          "height": 98
        },
        "id": "IGZXItXDq9zk",
        "outputId": "8d3a3cf7-82d4-4489-c3f3-42ee3cf6d6d8"
      },
      "execution_count": null,
      "outputs": [
        {
          "output_type": "display_data",
          "data": {
            "text/plain": [
              "<Figure size 2880x288 with 10 Axes>"
            ],
            "image/png": "[encoded data removed]"
          },
          "metadata": {
            "needs_background": "light"
          }
        }
      ]
    }
  ]
}