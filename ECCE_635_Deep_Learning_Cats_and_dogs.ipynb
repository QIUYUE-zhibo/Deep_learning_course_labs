{
  "cells": [
    {
      "cell_type": "code",
      "execution_count": null,
      "metadata": {
        "colab": {
          "base_uri": "https://localhost:8080/"
        },
        "id": "aXiU7ZzoLiC8",
        "outputId": "e3cf498c-2a97-4776-d951-c8ed735c0d62"
      },
      "outputs": [
        {
          "name": "stdout",
          "output_type": "stream",
          "text": [
            "Drive already mounted at /content/drive/; to attempt to forcibly remount, call drive.mount(\"/content/drive/\", force_remount=True).\n",
            "2\n",
            "2\n"
          ]
        }
      ],
      "source": [
        "from google.colab import drive\n",
        "import os\n",
        "drive.mount('/content/drive/')\n",
        "train_dir='/content/drive/My Drive/cats_and_dogs_small/train/'\n",
        "val_dir='/content/drive/My Drive/cats_and_dogs_small/validation/'\n",
        "print(len(os.listdir(train_dir)))\n",
        "print(len(os.listdir(val_dir)))"
      ]
    },
    {
      "cell_type": "code",
      "execution_count": null,
      "metadata": {
        "id": "y4c3vhhjVs_w"
      },
      "outputs": [],
      "source": [
        "from keras import layers\n",
        "from keras import models\n",
        "\n",
        "model = models.Sequential()\n",
        "model.add(layers.Conv2D(32, (3, 3), activation='relu',input_shape=(150, 150, 3)))\n",
        "model.add(layers.MaxPooling2D((2, 2)))\n",
        "model.add(layers.Conv2D(64, (3, 3), activation='relu'))\n",
        "model.add(layers.MaxPooling2D((2, 2)))\n",
        "model.add(layers.Conv2D(128, (3, 3), activation='relu'))\n",
        "model.add(layers.MaxPooling2D((2, 2)))\n",
        "model.add(layers.Conv2D(128, (3, 3), activation='relu'))\n",
        "model.add(layers.MaxPooling2D((2, 2)))\n",
        "model.add(layers.Flatten())\n",
        "model.add(layers.Dense(512, activation='relu'))\n",
        "model.add(layers.Dense(1, activation='sigmoid'))"
      ]
    },
    {
      "cell_type": "code",
      "execution_count": null,
      "metadata": {
        "colab": {
          "base_uri": "https://localhost:8080/"
        },
        "id": "Itm0yMWLV8fF",
        "outputId": "d7eeb1f2-e654-4bdf-e5c0-e8b9f6ecf403"
      },
      "outputs": [
        {
          "name": "stderr",
          "output_type": "stream",
          "text": [
            "/usr/local/lib/python3.7/dist-packages/keras/optimizer_v2/rmsprop.py:130: UserWarning: The `lr` argument is deprecated, use `learning_rate` instead.\n",
            "  super(RMSprop, self).__init__(name, **kwargs)\n"
          ]
        }
      ],
      "source": [
        "from tensorflow import keras\n",
        "from keras import optimizers\n",
        "model.compile(loss='binary_crossentropy',optimizer=keras.optimizers.RMSprop(lr=1e-4),metrics=['acc'])"
      ]
    },
    {
      "cell_type": "code",
      "execution_count": null,
      "metadata": {
        "colab": {
          "base_uri": "https://localhost:8080/"
        },
        "id": "B-Jd_bQbWG3o",
        "outputId": "288b7bbb-1436-4f5d-b005-a45f8dce5715"
      },
      "outputs": [
        {
          "name": "stdout",
          "output_type": "stream",
          "text": [
            "Found 4008 images belonging to 2 classes.\n",
            "Found 1008 images belonging to 2 classes.\n"
          ]
        }
      ],
      "source": [
        "\n",
        "from keras.preprocessing.image import ImageDataGenerator\n",
        "\n",
        "train_datagen = ImageDataGenerator(rescale=1./255)\n",
        "test_datagen = ImageDataGenerator(rescale=1./255)\n",
        "\n",
        "train_generator = train_datagen.flow_from_directory(train_dir, target_size=(150, 150), batch_size=20, class_mode='binary')\n",
        "\n",
        "validation_generator = test_datagen.flow_from_directory(val_dir,target_size=(150, 150),batch_size=20,class_mode='binary')\n"
      ]
    },
    {
      "cell_type": "code",
      "execution_count": null,
      "metadata": {
        "colab": {
          "background_save": true,
          "base_uri": "https://localhost:8080/"
        },
        "id": "H4jE9pPuZzo3",
        "outputId": "68e726d1-f179-4ae6-fde8-359686baf2d4"
      },
      "outputs": [
        {
          "name": "stdout",
          "output_type": "stream",
          "text": [
            "Epoch 1/30\n",
            "100/100 [==============================] - 398s 4s/step - loss: 0.6885 - acc: 0.5518 - val_loss: 0.6673 - val_acc: 0.6450\n",
            "Epoch 2/30\n",
            "100/100 [==============================] - 139s 1s/step - loss: 0.6582 - acc: 0.6005 - val_loss: 0.6329 - val_acc: 0.6370\n",
            "Epoch 3/30\n",
            "100/100 [==============================] - 120s 1s/step - loss: 0.6244 - acc: 0.6550 - val_loss: 0.5974 - val_acc: 0.6860\n",
            "Epoch 4/30\n",
            "100/100 [==============================] - 117s 1s/step - loss: 0.5939 - acc: 0.6810 - val_loss: 0.5574 - val_acc: 0.7150\n",
            "Epoch 5/30\n",
            "100/100 [==============================] - 115s 1s/step - loss: 0.5763 - acc: 0.6896 - val_loss: 0.5660 - val_acc: 0.6970\n",
            "Epoch 6/30\n",
            "100/100 [==============================] - 117s 1s/step - loss: 0.5541 - acc: 0.7065 - val_loss: 0.5579 - val_acc: 0.7260\n",
            "Epoch 7/30\n",
            "100/100 [==============================] - 115s 1s/step - loss: 0.5470 - acc: 0.7135 - val_loss: 0.5521 - val_acc: 0.7170\n",
            "Epoch 8/30\n",
            "100/100 [==============================] - 120s 1s/step - loss: 0.5165 - acc: 0.7495 - val_loss: 0.5316 - val_acc: 0.7290\n",
            "Epoch 9/30\n",
            "100/100 [==============================] - 114s 1s/step - loss: 0.5074 - acc: 0.7425 - val_loss: 0.5269 - val_acc: 0.7460\n",
            "Epoch 10/30\n",
            "100/100 [==============================] - 115s 1s/step - loss: 0.5051 - acc: 0.7645 - val_loss: 0.5084 - val_acc: 0.7430\n",
            "Epoch 11/30\n",
            "100/100 [==============================] - 114s 1s/step - loss: 0.4662 - acc: 0.7735 - val_loss: 0.4970 - val_acc: 0.7470\n",
            "Epoch 12/30\n",
            "100/100 [==============================] - 118s 1s/step - loss: 0.4620 - acc: 0.7842 - val_loss: 0.5307 - val_acc: 0.7270\n",
            "Epoch 13/30\n",
            "100/100 [==============================] - 116s 1s/step - loss: 0.4405 - acc: 0.7860 - val_loss: 0.5075 - val_acc: 0.7530\n",
            "Epoch 14/30\n",
            "100/100 [==============================] - 113s 1s/step - loss: 0.4250 - acc: 0.7995 - val_loss: 0.5191 - val_acc: 0.7590\n",
            "Epoch 15/30\n",
            "100/100 [==============================] - 116s 1s/step - loss: 0.4132 - acc: 0.8130 - val_loss: 0.4823 - val_acc: 0.7670\n",
            "Epoch 16/30\n",
            "100/100 [==============================] - 117s 1s/step - loss: 0.4089 - acc: 0.8063 - val_loss: 0.4897 - val_acc: 0.7580\n",
            "Epoch 17/30\n",
            "100/100 [==============================] - 116s 1s/step - loss: 0.3984 - acc: 0.8205 - val_loss: 0.4901 - val_acc: 0.7550\n",
            "Epoch 18/30\n",
            "100/100 [==============================] - 115s 1s/step - loss: 0.3791 - acc: 0.8360 - val_loss: 0.4806 - val_acc: 0.7730\n",
            "Epoch 19/30\n",
            "100/100 [==============================] - 113s 1s/step - loss: 0.3663 - acc: 0.8385 - val_loss: 0.4720 - val_acc: 0.7890\n",
            "Epoch 20/30\n",
            "100/100 [==============================] - 115s 1s/step - loss: 0.3467 - acc: 0.8496 - val_loss: 0.5237 - val_acc: 0.7580\n",
            "Epoch 21/30\n",
            "100/100 [==============================] - 112s 1s/step - loss: 0.3355 - acc: 0.8526 - val_loss: 0.5704 - val_acc: 0.7310\n",
            "Epoch 22/30\n",
            "100/100 [==============================] - 115s 1s/step - loss: 0.3351 - acc: 0.8505 - val_loss: 0.4680 - val_acc: 0.7830\n",
            "Epoch 23/30\n",
            "100/100 [==============================] - 115s 1s/step - loss: 0.3250 - acc: 0.8560 - val_loss: 0.4709 - val_acc: 0.7870\n",
            "Epoch 24/30\n",
            "100/100 [==============================] - 114s 1s/step - loss: 0.2996 - acc: 0.8813 - val_loss: 0.4797 - val_acc: 0.7840\n",
            "Epoch 25/30\n",
            "100/100 [==============================] - 116s 1s/step - loss: 0.2817 - acc: 0.8835 - val_loss: 0.5112 - val_acc: 0.7700\n",
            "Epoch 26/30\n",
            "100/100 [==============================] - 113s 1s/step - loss: 0.2724 - acc: 0.8853 - val_loss: 0.4751 - val_acc: 0.7980\n",
            "Epoch 27/30\n",
            "100/100 [==============================] - 117s 1s/step - loss: 0.2711 - acc: 0.8833 - val_loss: 0.4709 - val_acc: 0.7970\n",
            "Epoch 28/30\n",
            "100/100 [==============================] - 113s 1s/step - loss: 0.2290 - acc: 0.9049 - val_loss: 0.4926 - val_acc: 0.8060\n",
            "Epoch 29/30\n",
            "100/100 [==============================] - 116s 1s/step - loss: 0.2376 - acc: 0.9055 - val_loss: 0.5421 - val_acc: 0.7750\n",
            "Epoch 30/30\n",
            "100/100 [==============================] - 117s 1s/step - loss: 0.2195 - acc: 0.9125 - val_loss: 0.4940 - val_acc: 0.7940\n"
          ]
        }
      ],
      "source": [
        "history = model.fit(\n",
        "      train_generator,\n",
        "      steps_per_epoch=100,\n",
        "      epochs=30,\n",
        "      validation_data=validation_generator,\n",
        "      validation_steps=50)"
      ]
    },
    {
      "cell_type": "code",
      "execution_count": null,
      "metadata": {
        "colab": {
          "base_uri": "https://localhost:8080/",
          "height": 545
        },
        "id": "xG0tl_M8Z8RT",
        "outputId": "ff052f05-0985-4ddd-f80e-70077728d3d8"
      },
      "outputs": [
        {
          "data": {
            "image/png": "[encoded data removed]",
            "text/plain": [
              "<Figure size 432x288 with 1 Axes>"
            ]
          },
          "metadata": {},
          "output_type": "display_data"
        },
        {
          "data": {
            "image/png": "[encoded data removed]",
            "text/plain": [
              "<Figure size 432x288 with 1 Axes>"
            ]
          },
          "metadata": {},
          "output_type": "display_data"
        }
      ],
      "source": [
        "import matplotlib.pyplot as plt \n",
        "acc = history.history['acc']\n",
        "val_acc = history.history['val_acc']\n",
        "loss = history.history['loss']\n",
        "val_loss = history.history['val_loss']\n",
        "\n",
        "epochs = range(1, len(acc) + 1)\n",
        "\n",
        "plt.plot(epochs, acc, 'bo', label='Training acc')\n",
        "plt.plot(epochs, val_acc, 'b', label='Validation acc')\n",
        "plt.title('Training and validation accuracy')\n",
        "plt.legend()\n",
        "\n",
        "plt.figure()\n",
        "\n",
        "plt.plot(epochs, loss, 'bo', label='Training loss')\n",
        "plt.plot(epochs, val_loss, 'b', label='Validation loss')\n",
        "plt.title('Training and validation loss')\n",
        "plt.legend()\n",
        "\n",
        "plt.show()"
      ]
    }
  ],
  "metadata": {
    "colab": {
      "collapsed_sections": [],
      "name": "ECCE_635_Deep_Learning_Cats_and_dogs.ipynb",
      "provenance": []
    },
    "kernelspec": {
      "display_name": "Python 3",
      "name": "python3"
    },
    "language_info": {
      "name": "python"
    }
  },
  "nbformat": 4,
  "nbformat_minor": 0
}