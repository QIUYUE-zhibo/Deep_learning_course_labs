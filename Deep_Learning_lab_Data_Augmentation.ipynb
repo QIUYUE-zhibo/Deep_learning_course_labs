{
  "nbformat": 4,
  "nbformat_minor": 0,
  "metadata": {
    "colab": {
      "name": "Deep_Learning_lab_Data_Augmentation.ipynb",
      "provenance": [],
      "collapsed_sections": []
    },
    "kernelspec": {
      "name": "python3",
      "display_name": "Python 3"
    },
    "language_info": {
      "name": "python"
    }
  },
  "cells": [
    {
      "cell_type": "code",
      "source": [
        "from google.colab import drive\n",
        "drive.mount('/content/drive/')\n",
        "\n",
        "train_dir='/content/drive/My Drive/cats_and_dogs_small/train/'\n",
        "val_dir='/content/drive/My Drive/cats_and_dogs_small/validation'"
      ],
      "metadata": {
        "id": "nABbkfZKpiVo",
        "colab": {
          "base_uri": "https://localhost:8080/"
        },
        "outputId": "6d925ee1-1a04-41f5-835b-efd334c55cd6"
      },
      "execution_count": null,
      "outputs": [
        {
          "output_type": "stream",
          "name": "stdout",
          "text": [
            "Drive already mounted at /content/drive/; to attempt to forcibly remount, call drive.mount(\"/content/drive/\", force_remount=True).\n"
          ]
        }
      ]
    },
    {
      "cell_type": "code",
      "source": [
        "from keras import layers\n",
        "from keras import models\n",
        "\n",
        "model = models.Sequential()\n",
        "model.add(layers.Conv2D(32, (3, 3), activation='relu',\n",
        "                        input_shape=(150, 150, 3)))\n",
        "model.add(layers.MaxPooling2D((2, 2)))\n",
        "model.add(layers.Conv2D(64, (3, 3), activation='relu'))\n",
        "model.add(layers.MaxPooling2D((2, 2)))\n",
        "model.add(layers.Conv2D(128, (3, 3), activation='relu'))\n",
        "model.add(layers.MaxPooling2D((2, 2)))\n",
        "model.add(layers.Conv2D(128, (3, 3), activation='relu'))\n",
        "model.add(layers.MaxPooling2D((2, 2)))\n",
        "model.add(layers.Flatten())\n",
        "model.add(layers.Dense(512, activation='relu'))\n",
        "model.add(layers.Dense(1, activation='sigmoid'))"
      ],
      "metadata": {
        "id": "F53jANkyU1rV"
      },
      "execution_count": null,
      "outputs": []
    },
    {
      "cell_type": "code",
      "source": [
        "from tensorflow import keras\n",
        "from keras import optimizers\n",
        "model.compile(loss='binary_crossentropy',optimizer=keras.optimizers.RMSprop(lr=1e-4),\n",
        "              metrics=['acc'])"
      ],
      "metadata": {
        "colab": {
          "base_uri": "https://localhost:8080/"
        },
        "id": "A5b_ZV1bVf2v",
        "outputId": "d9336b07-091b-47bc-affd-e554b1f68bdb"
      },
      "execution_count": null,
      "outputs": [
        {
          "output_type": "stream",
          "name": "stderr",
          "text": [
            "/usr/local/lib/python3.7/dist-packages/keras/optimizer_v2/rmsprop.py:130: UserWarning: The `lr` argument is deprecated, use `learning_rate` instead.\n",
            "  super(RMSprop, self).__init__(name, **kwargs)\n"
          ]
        }
      ]
    },
    {
      "cell_type": "code",
      "source": [
        "from keras.preprocessing.image import ImageDataGenerator\n",
        "\n",
        "train_datagen = ImageDataGenerator(rescale=1./255, rotation_range=40, width_shift_range =0.2,height_shift_range =0.2)\n",
        "test_datagen = ImageDataGenerator(rescale=1./255)\n",
        "\n",
        "train_generator = train_datagen.flow_from_directory(train_dir, target_size=(150, 150), batch_size=20, class_mode='binary')\n",
        "\n",
        "validation_generator = test_datagen.flow_from_directory(val_dir,target_size=(150, 150),batch_size=20,class_mode='binary')\n"
      ],
      "metadata": {
        "colab": {
          "base_uri": "https://localhost:8080/"
        },
        "id": "C5RzusYwVhGI",
        "outputId": "71d5b448-f018-40ee-c611-95d94b838758"
      },
      "execution_count": null,
      "outputs": [
        {
          "output_type": "stream",
          "name": "stdout",
          "text": [
            "Found 4008 images belonging to 2 classes.\n",
            "Found 1008 images belonging to 2 classes.\n"
          ]
        }
      ]
    },
    {
      "cell_type": "code",
      "source": [
        "for data_batch, labels_batch in train_generator:\n",
        "    print('data batch shape:', data_batch.shape)\n",
        "    print('labels batch shape:', labels_batch.shape)\n",
        "    break"
      ],
      "metadata": {
        "colab": {
          "base_uri": "https://localhost:8080/"
        },
        "id": "bFkMuV4wWDBb",
        "outputId": "cf117271-b0a1-4d77-fb09-7ad8ffc274f4"
      },
      "execution_count": null,
      "outputs": [
        {
          "output_type": "stream",
          "name": "stdout",
          "text": [
            "data batch shape: (20, 150, 150, 3)\n",
            "labels batch shape: (20,)\n"
          ]
        }
      ]
    },
    {
      "cell_type": "code",
      "source": [
        "history = model.fit(\n",
        "      train_generator,\n",
        "      steps_per_epoch=100,\n",
        "      epochs=10,\n",
        "      validation_data=validation_generator,\n",
        "      validation_steps=50)"
      ],
      "metadata": {
        "colab": {
          "base_uri": "https://localhost:8080/"
        },
        "id": "pqnGYGSUWLI1",
        "outputId": "1aba04d3-eebb-4f49-d6e6-8b04b9f1efb3"
      },
      "execution_count": null,
      "outputs": [
        {
          "output_type": "stream",
          "name": "stdout",
          "text": [
            "Epoch 1/10\n",
            "100/100 [==============================] - 111s 1s/step - loss: 0.6300 - acc: 0.6355 - val_loss: 0.5878 - val_acc: 0.6840\n",
            "Epoch 2/10\n",
            "100/100 [==============================] - 111s 1s/step - loss: 0.6187 - acc: 0.6454 - val_loss: 0.5993 - val_acc: 0.6620\n",
            "Epoch 3/10\n",
            "100/100 [==============================] - 111s 1s/step - loss: 0.6121 - acc: 0.6564 - val_loss: 0.5797 - val_acc: 0.6920\n",
            "Epoch 4/10\n",
            "100/100 [==============================] - 110s 1s/step - loss: 0.6062 - acc: 0.6640 - val_loss: 0.5748 - val_acc: 0.6860\n",
            "Epoch 5/10\n",
            "100/100 [==============================] - 110s 1s/step - loss: 0.6117 - acc: 0.6494 - val_loss: 0.5564 - val_acc: 0.7230\n",
            "Epoch 6/10\n",
            "100/100 [==============================] - 110s 1s/step - loss: 0.5917 - acc: 0.6700 - val_loss: 0.5534 - val_acc: 0.7100\n",
            "Epoch 7/10\n",
            "100/100 [==============================] - 110s 1s/step - loss: 0.5815 - acc: 0.6806 - val_loss: 0.5439 - val_acc: 0.7180\n",
            "Epoch 8/10\n",
            "100/100 [==============================] - 110s 1s/step - loss: 0.5759 - acc: 0.6955 - val_loss: 0.5504 - val_acc: 0.7140\n",
            "Epoch 9/10\n",
            "100/100 [==============================] - 110s 1s/step - loss: 0.5773 - acc: 0.6871 - val_loss: 0.5463 - val_acc: 0.7190\n",
            "Epoch 10/10\n",
            "100/100 [==============================] - 110s 1s/step - loss: 0.5654 - acc: 0.7057 - val_loss: 0.5186 - val_acc: 0.7350\n"
          ]
        }
      ]
    },
    {
      "cell_type": "code",
      "source": [
        "import matplotlib.pyplot as plt\n",
        "\n",
        "acc = history.history['acc']\n",
        "val_acc = history.history['val_acc']\n",
        "loss = history.history['loss']\n",
        "val_loss = history.history['val_loss']\n",
        "\n",
        "epochs = range(1, len(acc) + 1)\n",
        "\n",
        "plt.plot(epochs, acc, 'bo', label='Training acc')\n",
        "plt.plot(epochs, val_acc, 'b', label='Validation acc')\n",
        "plt.title('Training and validation accuracy')\n",
        "plt.legend()\n",
        "\n",
        "plt.figure()\n",
        "\n",
        "plt.plot(epochs, loss, 'bo', label='Training loss')\n",
        "plt.plot(epochs, val_loss, 'b', label='Validation loss')\n",
        "plt.title('Training and validation loss')\n",
        "plt.legend()\n",
        "\n",
        "plt.show()\n"
      ],
      "metadata": {
        "colab": {
          "base_uri": "https://localhost:8080/",
          "height": 545
        },
        "id": "UMBxkpXFdvwe",
        "outputId": "7258b318-77f0-4be2-f2db-deebd2226931"
      },
      "execution_count": null,
      "outputs": [
        {
          "output_type": "display_data",
          "data": {
            "image/png": "[encoded data removed]",
            "text/plain": [
              "<Figure size 432x288 with 1 Axes>"
            ]
          },
          "metadata": {
            "needs_background": "light"
          }
        },
        {
          "output_type": "display_data",
          "data": {
            "image/png": "[encoded data removed]",
            "text/plain": [
              "<Figure size 432x288 with 1 Axes>"
            ]
          },
          "metadata": {
            "needs_background": "light"
          }
        }
      ]
    }
  ]
}